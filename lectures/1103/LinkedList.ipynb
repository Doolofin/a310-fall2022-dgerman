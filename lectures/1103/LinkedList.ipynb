{
  "nbformat": 4,
  "nbformat_minor": 0,
  "metadata": {
    "colab": {
      "provenance": []
    },
    "kernelspec": {
      "name": "python3",
      "display_name": "Python 3"
    },
    "language_info": {
      "name": "python"
    }
  },
  "cells": [
    {
      "cell_type": "code",
      "execution_count": 50,
      "metadata": {
        "id": "p9GiMfyfp-sO"
      },
      "outputs": [],
      "source": [
        "class Empty:\n",
        "  def __init__(self):\n",
        "    pass\n",
        "  def show(self):\n",
        "    return \" . \"\n",
        "  def delete(self, value):\n",
        "    return self\n",
        "  def empty(self):\n",
        "    return True\n",
        "  def insert(self, value):\n",
        "    return LinkedList(value, self)\n",
        "  def find(self, value):\n",
        "    return False\n",
        "  def length(self):\n",
        "    return 0"
      ]
    },
    {
      "cell_type": "code",
      "source": [
        "a = Empty()\n",
        "print(a.find(2))"
      ],
      "metadata": {
        "id": "L2VI1uzesL0f",
        "colab": {
          "base_uri": "https://localhost:8080/"
        },
        "outputId": "233e3b4d-950e-447d-c68a-62901aef2815"
      },
      "execution_count": 51,
      "outputs": [
        {
          "output_type": "stream",
          "name": "stdout",
          "text": [
            "False\n"
          ]
        }
      ]
    },
    {
      "cell_type": "code",
      "source": [
        "print(a.show())"
      ],
      "metadata": {
        "colab": {
          "base_uri": "https://localhost:8080/"
        },
        "id": "K7Uen9fxsxda",
        "outputId": "d5b3569b-dc29-4c94-cc2b-c5a65d12270b"
      },
      "execution_count": 52,
      "outputs": [
        {
          "output_type": "stream",
          "name": "stdout",
          "text": [
            " . \n"
          ]
        }
      ]
    },
    {
      "cell_type": "code",
      "source": [
        "class LinkedList:\n",
        "  def __init__(self, value, next):\n",
        "    self.value = value\n",
        "    self.next = next\n",
        "  def show(self):\n",
        "    return str(self.value) + \" \" + self.next.show()\n",
        "  def insert(self, value):\n",
        "    if value <= self.value:\n",
        "      return LinkedList(value, self)\n",
        "    else:\n",
        "      self.next = self.next.insert(value)\n",
        "      return self\n",
        "  def find(self, value):\n",
        "    if value == self.value:\n",
        "      return True\n",
        "    else:\n",
        "      return self.next.find(value)\n",
        "  def delete(self, value):\n",
        "    if not self.find(value):\n",
        "      return self\n",
        "    else:\n",
        "      if value == self.value:\n",
        "        return self.next\n",
        "      else:\n",
        "        self.next = self.next.delete(value)\n",
        "        return self\n",
        "  def empty(self):\n",
        "    return False\n",
        "  def length(self):\n",
        "    return 1 + self.next.length()\n",
        "\n",
        "b = Empty()  \n",
        "b = b.insert(3)\n",
        "print(b.show())\n",
        "print(b.find(3))\n",
        "print(b.find(5))"
      ],
      "metadata": {
        "id": "IvK_euFpuTWY",
        "colab": {
          "base_uri": "https://localhost:8080/"
        },
        "outputId": "199cbf2f-7f61-4f94-8cba-4f977da0ea8e"
      },
      "execution_count": 53,
      "outputs": [
        {
          "output_type": "stream",
          "name": "stdout",
          "text": [
            "3  . \n",
            "True\n",
            "False\n"
          ]
        }
      ]
    },
    {
      "cell_type": "code",
      "source": [
        "print(b.show())\n",
        "print(b.length())"
      ],
      "metadata": {
        "colab": {
          "base_uri": "https://localhost:8080/"
        },
        "id": "-AqLkm8JARYB",
        "outputId": "61010ee3-1b57-43ba-fc78-90eeca090eb9"
      },
      "execution_count": 54,
      "outputs": [
        {
          "output_type": "stream",
          "name": "stdout",
          "text": [
            "3  . \n",
            "1\n"
          ]
        }
      ]
    },
    {
      "cell_type": "code",
      "source": [
        "b = b.delete(5) \n",
        "print(b.show())"
      ],
      "metadata": {
        "colab": {
          "base_uri": "https://localhost:8080/"
        },
        "id": "6IDGkn_Isy_y",
        "outputId": "4446317c-f6e6-4c04-aed2-8161ae410546"
      },
      "execution_count": 55,
      "outputs": [
        {
          "output_type": "stream",
          "name": "stdout",
          "text": [
            "3  . \n"
          ]
        }
      ]
    },
    {
      "cell_type": "code",
      "source": [
        "b.empty()"
      ],
      "metadata": {
        "colab": {
          "base_uri": "https://localhost:8080/"
        },
        "id": "Q5Ai6k_OtxbB",
        "outputId": "87c1c3b3-98b8-4405-9f26-20127bcfbb32"
      },
      "execution_count": 56,
      "outputs": [
        {
          "output_type": "execute_result",
          "data": {
            "text/plain": [
              "False"
            ]
          },
          "metadata": {},
          "execution_count": 56
        }
      ]
    },
    {
      "cell_type": "code",
      "source": [
        "b = b.insert(1)\n",
        "b = b.insert(4)\n",
        "b = b.insert(2)\n",
        "print(b.show())"
      ],
      "metadata": {
        "colab": {
          "base_uri": "https://localhost:8080/"
        },
        "id": "NT3kMCmlxhcw",
        "outputId": "4c73b1eb-4682-45a7-93c3-8244235678dc"
      },
      "execution_count": 57,
      "outputs": [
        {
          "output_type": "stream",
          "name": "stdout",
          "text": [
            "1 2 3 4  . \n"
          ]
        }
      ]
    },
    {
      "cell_type": "code",
      "source": [
        "c = LinkedList(3, Empty())\n",
        "d = LinkedList(3, c)\n",
        "d = LinkedList(2, d)"
      ],
      "metadata": {
        "id": "RdW7sQqrvHbD"
      },
      "execution_count": 71,
      "outputs": []
    },
    {
      "cell_type": "code",
      "source": [
        "print(d.show())\n"
      ],
      "metadata": {
        "colab": {
          "base_uri": "https://localhost:8080/"
        },
        "id": "-ZdWkPENzBeX",
        "outputId": "bdc032b4-c97e-4ff3-e563-0de49b69a1f2"
      },
      "execution_count": 72,
      "outputs": [
        {
          "output_type": "stream",
          "name": "stdout",
          "text": [
            "2 3 3  . \n"
          ]
        }
      ]
    },
    {
      "cell_type": "code",
      "source": [
        "d = d.insert(7)"
      ],
      "metadata": {
        "id": "GNnNE-ytvWso"
      },
      "execution_count": 73,
      "outputs": []
    },
    {
      "cell_type": "code",
      "source": [
        "print(d.show())"
      ],
      "metadata": {
        "id": "o-oG-SrnvXi6",
        "colab": {
          "base_uri": "https://localhost:8080/"
        },
        "outputId": "a5640650-e2bb-48f1-b790-d869c017a04c"
      },
      "execution_count": 74,
      "outputs": [
        {
          "output_type": "stream",
          "name": "stdout",
          "text": [
            "2 3 3 7  . \n"
          ]
        }
      ]
    },
    {
      "cell_type": "code",
      "source": [
        "times = d.length()\n",
        "elem = d.value\n",
        "for i in range(times+2):\n",
        "  if d.empty():\n",
        "    pass\n",
        "  else:\n",
        "    elem = d.value\n",
        "  print(\"I am trying to delete \", elem)\n",
        "  d = d.delete(elem)\n",
        "  print(d.show())\n",
        "\n"
      ],
      "metadata": {
        "colab": {
          "base_uri": "https://localhost:8080/"
        },
        "id": "yeROMpiKBlN3",
        "outputId": "0f15cdaa-a0cf-4cbe-d10a-3159311c6908"
      },
      "execution_count": 75,
      "outputs": [
        {
          "output_type": "stream",
          "name": "stdout",
          "text": [
            "I am trying to delete  2\n",
            "3 3 7  . \n",
            "I am trying to delete  3\n",
            "3 7  . \n",
            "I am trying to delete  3\n",
            "7  . \n",
            "I am trying to delete  7\n",
            " . \n",
            "I am trying to delete  7\n",
            " . \n",
            "I am trying to delete  7\n",
            " . \n"
          ]
        }
      ]
    },
    {
      "cell_type": "code",
      "source": [],
      "metadata": {
        "id": "Slee-_LaCoDZ"
      },
      "execution_count": null,
      "outputs": []
    }
  ]
}