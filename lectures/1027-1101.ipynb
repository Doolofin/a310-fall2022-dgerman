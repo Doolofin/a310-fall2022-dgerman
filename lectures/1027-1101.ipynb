{
  "nbformat": 4,
  "nbformat_minor": 0,
  "metadata": {
    "colab": {
      "provenance": []
    },
    "kernelspec": {
      "name": "python3",
      "display_name": "Python 3"
    },
    "language_info": {
      "name": "python"
    }
  },
  "cells": [
    {
      "cell_type": "code",
      "execution_count": null,
      "metadata": {
        "id": "pslC0-gVBR-B"
      },
      "outputs": [],
      "source": [
        "hoboken = {}"
      ]
    },
    {
      "cell_type": "code",
      "source": [
        "print(hoboken)"
      ],
      "metadata": {
        "colab": {
          "base_uri": "https://localhost:8080/"
        },
        "id": "aaBGjR-EByLy",
        "outputId": "bba4ccd3-027e-4c79-baff-3d97bde2ced0"
      },
      "execution_count": null,
      "outputs": [
        {
          "output_type": "stream",
          "name": "stdout",
          "text": [
            "{}\n"
          ]
        }
      ]
    },
    {
      "cell_type": "code",
      "source": [
        "hoboken[\"adrian\" ] = [\"barry\", \"chelsea\", \"dana\"]\n",
        "hoboken[\"barry\"  ] = [\"adrian\"] # , \"ethan\"]\n",
        "hoboken[\"chelsea\"] = [\"adrian\", \"heather\"]\n",
        "hoboken[\"dana\"   ] = [\"adrian\", \"fiona\"]\n",
        "hoboken[\"ethan\"  ] = [\"barry\", \"ian\"]\n",
        "hoboken[\"ian\"    ] = [\"ethan\", \"gladys\"]\n",
        "hoboken[\"fiona\"  ] = [\"dana\", \"gladys\"]\n",
        "hoboken[\"gladys\" ] = [\"ian\", \"fiona\"]\n",
        "hoboken[\"heather\"] = [\"chelsea\"]"
      ],
      "metadata": {
        "id": "8ra7f09pBYzZ"
      },
      "execution_count": null,
      "outputs": []
    },
    {
      "cell_type": "code",
      "source": [
        "hoboken"
      ],
      "metadata": {
        "colab": {
          "base_uri": "https://localhost:8080/"
        },
        "id": "x3RZ0ZdUBpLm",
        "outputId": "3a9b85d5-108b-4be7-ffad-291145da93fd"
      },
      "execution_count": null,
      "outputs": [
        {
          "output_type": "execute_result",
          "data": {
            "text/plain": [
              "{'adrian': ['barry', 'chelsea', 'dana'],\n",
              " 'barry': ['adrian', 'ethan'],\n",
              " 'chelsea': ['adrian', 'heather'],\n",
              " 'dana': ['adrian', 'fiona'],\n",
              " 'ethan': ['barry', 'ian'],\n",
              " 'ian': ['ethan', 'gladys'],\n",
              " 'fiona': ['dana', 'gladys'],\n",
              " 'gladys': ['ian', 'fiona'],\n",
              " 'heather': ['chelsea']}"
            ]
          },
          "metadata": {},
          "execution_count": 10
        }
      ]
    },
    {
      "cell_type": "code",
      "source": [
        "print(hoboken,\"\\n-------\")\n"
      ],
      "metadata": {
        "colab": {
          "base_uri": "https://localhost:8080/"
        },
        "id": "exGYQ1fABqSl",
        "outputId": "b64e9dc3-99e6-41b6-d9e1-8c19498fb51d"
      },
      "execution_count": null,
      "outputs": [
        {
          "output_type": "stream",
          "name": "stdout",
          "text": [
            "{'adrian': ['barry', 'chelsea', 'dana'], 'barry': ['adrian', 'ethan'], 'chelsea': ['adrian', 'heather'], 'dana': ['adrian', 'fiona'], 'ethan': ['barry', 'ian'], 'ian': ['ethan', 'gladys'], 'fiona': ['dana', 'gladys'], 'gladys': ['ian', 'fiona'], 'heather': ['chelsea']} \n",
            "-------\n"
          ]
        }
      ]
    },
    {
      "cell_type": "code",
      "source": [
        "def fun(paths, target, graph):\n",
        "    # [['A']]   'I'     {'A' : ['B', 'D'], ...} or by name (hoboken)\n",
        "    if paths == []:\n",
        "        return paths\n",
        "    else:\n",
        "        newPaths = [] \n",
        "        for path in paths:\n",
        "            frontier = path[-1]\n",
        "            for neighbor in hoboken[frontier]:\n",
        "                if neighbor not in path:\n",
        "                    newPaths.append(path + [neighbor])\n",
        "        print(newPaths)\n"
      ],
      "metadata": {
        "id": "G3FNMjghBuLs"
      },
      "execution_count": null,
      "outputs": []
    },
    {
      "cell_type": "code",
      "source": [
        "a = fun([[\"adrian\"]], \"ian\", hoboken)\n",
        "print(a)\n"
      ],
      "metadata": {
        "colab": {
          "base_uri": "https://localhost:8080/"
        },
        "id": "Vfvnx6GXCCa8",
        "outputId": "6bb1e338-ca23-405f-8628-7f1d5fdfd208"
      },
      "execution_count": null,
      "outputs": [
        {
          "output_type": "stream",
          "name": "stdout",
          "text": [
            "[['adrian', 'barry'], ['adrian', 'chelsea'], ['adrian', 'dana']]\n",
            "None\n"
          ]
        }
      ]
    },
    {
      "cell_type": "code",
      "source": [
        "a = fun([['adrian', 'barry'], ['adrian', 'chelsea'], ['adrian', 'dana']], \"ian\", hoboken)"
      ],
      "metadata": {
        "colab": {
          "base_uri": "https://localhost:8080/"
        },
        "id": "Jrgjc9URDk30",
        "outputId": "e4843532-4379-4268-c344-89f2c774a345"
      },
      "execution_count": null,
      "outputs": [
        {
          "output_type": "stream",
          "name": "stdout",
          "text": [
            "[['adrian', 'barry', 'ethan'], ['adrian', 'chelsea', 'heather'], ['adrian', 'dana', 'fiona']]\n"
          ]
        }
      ]
    },
    {
      "cell_type": "code",
      "source": [
        "def fun(paths, target, graph):\n",
        "    if paths == []:\n",
        "        return paths\n",
        "    else:\n",
        "        for path in paths:\n",
        "            if path[-1] == target:\n",
        "                return(\"The answer is: \", path)\n",
        "        newPaths = [] \n",
        "        for path in paths:\n",
        "            frontier = path[-1]\n",
        "            for neighbor in hoboken[frontier]:\n",
        "                if neighbor not in path:\n",
        "                    newPaths.append(path + [neighbor])\n",
        "        print(\"Moving ahead: \", newPaths)\n",
        "        return fun(newPaths, target, graph)"
      ],
      "metadata": {
        "id": "fhT9E-YLD9AG"
      },
      "execution_count": null,
      "outputs": []
    },
    {
      "cell_type": "code",
      "source": [
        "a = fun([[\"adrian\"]], \"ian\", hoboken)\n",
        "print(a)"
      ],
      "metadata": {
        "colab": {
          "base_uri": "https://localhost:8080/"
        },
        "id": "4Nq2-4VZEkjE",
        "outputId": "4584a338-8b4a-4f58-8656-83caa38c6864"
      },
      "execution_count": null,
      "outputs": [
        {
          "output_type": "stream",
          "name": "stdout",
          "text": [
            "Moving ahead:  [['adrian', 'barry'], ['adrian', 'chelsea'], ['adrian', 'dana']]\n",
            "Moving ahead:  [['adrian', 'chelsea', 'heather'], ['adrian', 'dana', 'fiona']]\n",
            "Moving ahead:  [['adrian', 'dana', 'fiona', 'gladys']]\n",
            "Moving ahead:  [['adrian', 'dana', 'fiona', 'gladys', 'ian']]\n",
            "('The answer is: ', ['adrian', 'dana', 'fiona', 'gladys', 'ian'])\n"
          ]
        }
      ]
    },
    {
      "cell_type": "code",
      "source": [
        "class Empty:\n",
        "  def __init__(self):\n",
        "    pass\n",
        "  def insert(self, value):\n",
        "    return LinkedList(value, self)\n",
        "  def show(self):\n",
        "    return \" . \"\n",
        "  def delete(self, value):\n",
        "    return self\n",
        "  def empty(self):\n",
        "    return True\n",
        "  def delete(self, value):\n",
        "    return self"
      ],
      "metadata": {
        "id": "B0gG7HnkEsLj"
      },
      "execution_count": 27,
      "outputs": []
    },
    {
      "cell_type": "code",
      "source": [
        "a = Empty()\n",
        "print(a.show())"
      ],
      "metadata": {
        "colab": {
          "base_uri": "https://localhost:8080/"
        },
        "id": "LKYb5FWilW7q",
        "outputId": "b619b0e1-75e3-4f16-ed1d-fdde78bf8750"
      },
      "execution_count": 28,
      "outputs": [
        {
          "output_type": "stream",
          "name": "stdout",
          "text": [
            " . \n"
          ]
        }
      ]
    },
    {
      "cell_type": "code",
      "source": [
        "# A LinkedList is one of:\n",
        "#     - Empty() \n",
        "#     - LinkedList(value, LinkedList)\n",
        "\n",
        "class LinkedList:\n",
        "  def __init__(self, value, next):\n",
        "    self.value = value\n",
        "    self.next = next\n",
        "  def show(self):\n",
        "    return str(self.value) + \" \" + self.next.show()\n",
        "  def empty(self):\n",
        "    return False\n",
        "  def insert(self, value):\n",
        "    if self.empty():\n",
        "      return LinkedList(value, self)\n",
        "    elif value < self.value:\n",
        "      return LinkedList(value, self)\n",
        "    else: \n",
        "      self.next = self.next.insert(value)\n",
        "      return self\n",
        "  def delete(self, value):\n",
        "    if self.value == value:\n",
        "      return self.next\n",
        "    else: \n",
        "      if self.value < value:\n",
        "        self.next = self.next.delete(value)\n",
        "      return self\n"
      ],
      "metadata": {
        "id": "EyE_ckxvlfYh"
      },
      "execution_count": 30,
      "outputs": []
    },
    {
      "cell_type": "code",
      "source": [
        "b = LinkedList(3, LinkedList(5, LinkedList(1, Empty())))\n",
        "print(b.show())"
      ],
      "metadata": {
        "colab": {
          "base_uri": "https://localhost:8080/"
        },
        "id": "R_lhRXDDmfO1",
        "outputId": "e285023a-a02a-4894-8a16-42ad3dded3fc"
      },
      "execution_count": 31,
      "outputs": [
        {
          "output_type": "stream",
          "name": "stdout",
          "text": [
            "3 5 1  . \n"
          ]
        }
      ]
    },
    {
      "cell_type": "code",
      "source": [
        "c = Empty()"
      ],
      "metadata": {
        "id": "rxPZX70vmo6R"
      },
      "execution_count": 36,
      "outputs": []
    },
    {
      "cell_type": "code",
      "source": [
        "c = c.insert(4)\n",
        "print(c.show())"
      ],
      "metadata": {
        "colab": {
          "base_uri": "https://localhost:8080/"
        },
        "id": "Qv_4thLKnjpy",
        "outputId": "0701c68b-d682-4be4-ecd0-a7e9b70055fb"
      },
      "execution_count": 37,
      "outputs": [
        {
          "output_type": "stream",
          "name": "stdout",
          "text": [
            "4  . \n"
          ]
        }
      ]
    },
    {
      "cell_type": "code",
      "source": [
        "c = c.insert(1)\n",
        "c = c.insert(3)\n",
        "print(c.show())"
      ],
      "metadata": {
        "colab": {
          "base_uri": "https://localhost:8080/"
        },
        "id": "2eYF2r8_nmog",
        "outputId": "c975b322-3b44-4938-b251-1394c17378a7"
      },
      "execution_count": 38,
      "outputs": [
        {
          "output_type": "stream",
          "name": "stdout",
          "text": [
            "1 3 4  . \n"
          ]
        }
      ]
    },
    {
      "cell_type": "code",
      "source": [
        "c = c.delete(5)\n",
        "print(c.show())\n",
        "c = c.delete(4)\n",
        "print(c.show())\n",
        "c = c.delete(1)\n",
        "print(c.show())\n",
        "c = c.delete(3)\n",
        "print(c.show())\n",
        "c = c.delete(3)\n",
        "print(c.show())\n"
      ],
      "metadata": {
        "colab": {
          "base_uri": "https://localhost:8080/"
        },
        "id": "eLF3lKwNpyBq",
        "outputId": "48c7d130-020a-43d5-b0b2-0807874370ce"
      },
      "execution_count": 39,
      "outputs": [
        {
          "output_type": "stream",
          "name": "stdout",
          "text": [
            "1 3 4  . \n",
            "1 3  . \n",
            "3  . \n",
            " . \n",
            " . \n"
          ]
        }
      ]
    },
    {
      "cell_type": "code",
      "source": [],
      "metadata": {
        "id": "jrVFkRK5rb3h"
      },
      "execution_count": null,
      "outputs": []
    }
  ]
}
